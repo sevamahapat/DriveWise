{
  "nbformat": 4,
  "nbformat_minor": 0,
  "metadata": {
    "colab": {
      "provenance": []
    },
    "kernelspec": {
      "name": "python3",
      "display_name": "Python 3"
    },
    "language_info": {
      "name": "python"
    },
    "accelerator": "GPU",
    "gpuClass": "standard"
  },
  "cells": [
    {
      "cell_type": "code",
      "source": [
        "from google.colab import drive\n",
        "drive.mount('/content/drive')\n",
        "%cd /content/drive/MyDrive/Colab Notebooks"
      ],
      "metadata": {
        "colab": {
          "base_uri": "https://localhost:8080/"
        },
        "id": "eqEmneKNKOkG",
        "outputId": "27aa9680-8627-45e8-c512-fb3ae1579a6c"
      },
      "execution_count": null,
      "outputs": [
        {
          "output_type": "stream",
          "name": "stdout",
          "text": [
            "Drive already mounted at /content/drive; to attempt to forcibly remount, call drive.mount(\"/content/drive\", force_remount=True).\n",
            "/content/drive/MyDrive/Colab Notebooks\n"
          ]
        }
      ]
    },
    {
      "cell_type": "code",
      "execution_count": null,
      "metadata": {
        "id": "9QpKSTO-yP1z",
        "colab": {
          "base_uri": "https://localhost:8080/"
        },
        "outputId": "894267ec-aa65-4fdf-aee7-bb9eaa506908"
      },
      "outputs": [
        {
          "output_type": "stream",
          "name": "stderr",
          "text": [
            "WARNING:tensorflow:From /usr/local/lib/python3.9/dist-packages/tensorflow/python/compat/v2_compat.py:107: disable_resource_variables (from tensorflow.python.ops.variable_scope) is deprecated and will be removed in a future version.\n",
            "Instructions for updating:\n",
            "non-resource variables are not supported in the long term\n"
          ]
        }
      ],
      "source": [
        "import tensorflow.compat.v1 as tf\n",
        "tf.disable_v2_behavior()\n",
        "import cv2\n",
        "from subprocess import call\n",
        "import os"
      ]
    },
    {
      "cell_type": "code",
      "source": [
        "%run driving_data.ipynb"
      ],
      "metadata": {
        "colab": {
          "base_uri": "https://localhost:8080/"
        },
        "id": "UVoWnTauAj9e",
        "outputId": "aeac0c0b-cbaf-49f3-a9c2-d54e28032193"
      },
      "execution_count": null,
      "outputs": [
        {
          "output_type": "stream",
          "name": "stdout",
          "text": [
            "Drive already mounted at /content/drive; to attempt to forcibly remount, call drive.mount(\"/content/drive\", force_remount=True).\n",
            "/content/drive\n"
          ]
        }
      ]
    },
    {
      "cell_type": "code",
      "source": [
        "%cd /content/drive/MyDrive/Colab Notebooks"
      ],
      "metadata": {
        "colab": {
          "base_uri": "https://localhost:8080/"
        },
        "id": "AaAwgXWpBpA8",
        "outputId": "44413c25-5823-44ba-e3bb-718b70b0f2ed"
      },
      "execution_count": null,
      "outputs": [
        {
          "output_type": "stream",
          "name": "stdout",
          "text": [
            "/content/drive/MyDrive/Colab Notebooks\n"
          ]
        }
      ]
    },
    {
      "cell_type": "code",
      "source": [
        "%run model.ipynb"
      ],
      "metadata": {
        "colab": {
          "base_uri": "https://localhost:8080/"
        },
        "id": "Uj6aOGEc_Bcq",
        "outputId": "10250ead-92ff-4d7c-f83f-9af2f0387cdc"
      },
      "execution_count": null,
      "outputs": [
        {
          "output_type": "stream",
          "name": "stderr",
          "text": [
            "WARNING:tensorflow:From /usr/local/lib/python3.9/dist-packages/tensorflow/python/util/dispatch.py:1176: calling dropout (from tensorflow.python.ops.nn_ops) with keep_prob is deprecated and will be removed in a future version.\n",
            "Instructions for updating:\n",
            "Please use `rate` instead of `keep_prob`. Rate should be set to `rate = 1 - keep_prob`.\n"
          ]
        }
      ]
    },
    {
      "cell_type": "code",
      "source": [
        "#check if on windows OS\n",
        "windows = False\n",
        "if os.name == 'nt':\n",
        "    windows = True\n",
        "\n",
        "sess = tf.InteractiveSession()\n",
        "saver = tf.train.Saver()\n",
        "saver.restore(sess, \"/content/drive/MyDrive/Colab Notebooks/save/model.ckpt\")\n",
        "\n",
        "img = cv2.imread('steering_wheel_image.jpg',0)\n",
        "rows,cols = img.shape\n",
        "\n",
        "smoothed_angle = 0"
      ],
      "metadata": {
        "id": "Nx2QclsZypdU"
      },
      "execution_count": null,
      "outputs": []
    },
    {
      "cell_type": "code",
      "source": [
        "from google.colab.patches import cv2_imshow"
      ],
      "metadata": {
        "id": "V2W0DmKUB4tx"
      },
      "execution_count": null,
      "outputs": []
    },
    {
      "cell_type": "code",
      "source": [
        "i = 0\n",
        "while(cv2.waitKey(10) != ord('q')):\n",
        "    full_image = cv2.imread(\"/tmp/driving_dataset/\" + str(i) + \".jpg\")\n",
        "    image = cv2.resize(full_image[-150:], (200, 66)) / 255.0\n",
        "    degrees = y.eval(feed_dict={x: [image], keep_prob: 1.0})[0][0] * 180.0 / 3.14159265\n",
        "    if not windows:\n",
        "        call(\"clear\")\n",
        "    print(\"Predicted steering angle: \" + str(degrees) + \" degrees\")\n",
        "    cv2_imshow(full_image)\n",
        "    #make smooth angle transitions by turning the steering wheel based on the difference of the current angle\n",
        "    #and the predicted angle\n",
        "    smoothed_angle += 0.2 * pow(abs((degrees - smoothed_angle)), 2.0 / 3.0) * (degrees - smoothed_angle) / abs(degrees - smoothed_angle)\n",
        "    M = cv2.getRotationMatrix2D((cols/2,rows/2),-smoothed_angle,1)\n",
        "    dst = cv2.warpAffine(img,M,(cols,rows))\n",
        "    cv2_imshow(dst)\n",
        "    i += 1\n",
        "\n",
        "cv2.destroyAllWindows()"
      ],
      "metadata": {
        "id": "G3zW04Hgyv-W",
        "colab": {
          "base_uri": "https://localhost:8080/",
          "height": 1000
        },
        "outputId": "81876c63-f818-474a-bcc2-23409389dada"
      },
      "execution_count": null,
      "outputs": []
    }
  ]
}