{
  "nbformat": 4,
  "nbformat_minor": 0,
  "metadata": {
    "colab": {
      "provenance": []
    },
    "kernelspec": {
      "name": "python3",
      "display_name": "Python 3"
    },
    "language_info": {
      "name": "python"
    }
  },
  "cells": [
    {
      "cell_type": "code",
      "execution_count": null,
      "metadata": {
        "colab": {
          "base_uri": "https://localhost:8080/"
        },
        "id": "mbo9f2sjsc02",
        "outputId": "0bb5580d-215e-4c01-e19b-f5b01815c150"
      },
      "outputs": [
        {
          "output_type": "stream",
          "name": "stderr",
          "text": [
            "WARNING:tensorflow:From /usr/local/lib/python3.9/dist-packages/tensorflow/python/compat/v2_compat.py:107: disable_resource_variables (from tensorflow.python.ops.variable_scope) is deprecated and will be removed in a future version.\n",
            "Instructions for updating:\n",
            "non-resource variables are not supported in the long term\n"
          ]
        }
      ],
      "source": [
        "import tensorflow.compat.v1 as tf\n",
        "tf.disable_v2_behavior()\n",
        "import scipy"
      ]
    },
    {
      "cell_type": "code",
      "source": [
        "def weight_variable(shape):\n",
        "  initial = tf.truncated_normal(shape, stddev=0.1)\n",
        "  return tf.Variable(initial)\n",
        "\n",
        "def bias_variable(shape):\n",
        "  initial = tf.constant(0.1, shape=shape)\n",
        "  return tf.Variable(initial)\n",
        "\n",
        "def conv2d(x, W, stride):\n",
        "  return tf.nn.conv2d(x, W, strides=[1, stride, stride, 1], padding='VALID')"
      ],
      "metadata": {
        "id": "aZnz1w1tsm-L"
      },
      "execution_count": null,
      "outputs": []
    },
    {
      "cell_type": "code",
      "source": [
        "x = tf.placeholder(tf.float32, shape=[None, 66, 200, 3])\n",
        "y_ = tf.placeholder(tf.float32, shape=[None, 1])\n",
        "\n",
        "x_image = x\n",
        "\n",
        "#first convolutional layer\n",
        "W_conv1 = weight_variable([5, 5, 3, 24])\n",
        "b_conv1 = bias_variable([24])\n",
        "\n",
        "h_conv1 = tf.nn.relu(conv2d(x_image, W_conv1, 2) + b_conv1)\n",
        "\n",
        "#second convolutional layer\n",
        "W_conv2 = weight_variable([5, 5, 24, 36])\n",
        "b_conv2 = bias_variable([36])\n",
        "\n",
        "h_conv2 = tf.nn.relu(conv2d(h_conv1, W_conv2, 2) + b_conv2)\n",
        "\n",
        "#third convolutional layer\n",
        "W_conv3 = weight_variable([5, 5, 36, 48])\n",
        "b_conv3 = bias_variable([48])\n",
        "\n",
        "h_conv3 = tf.nn.relu(conv2d(h_conv2, W_conv3, 2) + b_conv3)\n",
        "\n",
        "conv3_shape = np.prod(h_conv3.get_shape().as_list()[1:])\n",
        "#FCL 1\n",
        "W_fc1 = weight_variable([conv3_shape, 1164])\n",
        "b_fc1 = bias_variable([1164])\n",
        "\n",
        "h_conv3_flat = tf.reshape(h_conv3, [-1, conv3_shape])\n",
        "h_fc1 = tf.nn.relu(tf.matmul(h_conv3_flat, W_fc1) + b_fc1)\n",
        "\n",
        "keep_prob = tf.placeholder(tf.float32)\n",
        "h_fc1_drop = tf.nn.dropout(h_fc1, keep_prob)\n",
        "\n",
        "#FCL 2\n",
        "W_fc2 = weight_variable([1164, 100])\n",
        "b_fc2 = bias_variable([100])\n",
        "\n",
        "h_fc2 = tf.nn.relu(tf.matmul(h_fc1_drop, W_fc2) + b_fc2)\n",
        "\n",
        "h_fc2_drop = tf.nn.dropout(h_fc2, keep_prob)\n",
        "\n",
        "#FCL 3\n",
        "W_fc3 = weight_variable([100, 50])\n",
        "b_fc3 = bias_variable([50])\n",
        "\n",
        "h_fc3 = tf.nn.relu(tf.matmul(h_fc2_drop, W_fc3) + b_fc3)\n",
        "\n",
        "h_fc3_drop = tf.nn.dropout(h_fc3, keep_prob)\n",
        "\n",
        "#FCL 4\n",
        "W_fc4 = weight_variable([50, 10])\n",
        "b_fc4 = bias_variable([10])\n",
        "\n",
        "h_fc4 = tf.nn.relu(tf.matmul(h_fc3_drop, W_fc4) + b_fc4)\n",
        "\n",
        "h_fc4_drop = tf.nn.dropout(h_fc4, keep_prob)\n",
        "\n",
        "#Output\n",
        "W_fc5 = weight_variable([10, 1])\n",
        "b_fc5 = bias_variable([1])\n",
        "\n",
        "y = tf.multiply(tf.atan(tf.matmul(h_fc4_drop, W_fc5) + b_fc5), 2) #scale the atan output"
      ],
      "metadata": {
        "colab": {
          "base_uri": "https://localhost:8080/"
        },
        "id": "nokkYyLl6Pz_",
        "outputId": "d949b289-78c0-4122-ba73-3238cac69ebf"
      },
      "execution_count": null,
      "outputs": [
        {
          "output_type": "stream",
          "name": "stderr",
          "text": [
            "WARNING:tensorflow:From /usr/local/lib/python3.9/dist-packages/tensorflow/python/util/dispatch.py:1176: calling dropout (from tensorflow.python.ops.nn_ops) with keep_prob is deprecated and will be removed in a future version.\n",
            "Instructions for updating:\n",
            "Please use `rate` instead of `keep_prob`. Rate should be set to `rate = 1 - keep_prob`.\n"
          ]
        }
      ]
    }
  ]
}