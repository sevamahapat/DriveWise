{
  "nbformat": 4,
  "nbformat_minor": 0,
  "metadata": {
    "colab": {
      "provenance": []
    },
    "kernelspec": {
      "name": "python3",
      "display_name": "Python 3"
    },
    "language_info": {
      "name": "python"
    },
    "accelerator": "GPU",
    "gpuClass": "standard"
  },
  "cells": [
    {
      "cell_type": "code",
      "execution_count": null,
      "metadata": {
        "id": "oDU3px--zpul"
      },
      "outputs": [],
      "source": [
        "import cv2\n",
        "import random\n",
        "import numpy as np"
      ]
    },
    {
      "cell_type": "code",
      "source": [
        "import zipfile\n",
        "from google.colab import drive\n",
        "drive.mount('/content/drive')\n",
        "%cd /content/drive/"
      ],
      "metadata": {
        "id": "PUaJ7E5s55fU",
        "colab": {
          "base_uri": "https://localhost:8080/"
        },
        "outputId": "4a64254a-a9a6-479c-81c5-3129d0553b58"
      },
      "execution_count": null,
      "outputs": [
        {
          "output_type": "stream",
          "name": "stdout",
          "text": [
            "Mounted at /content/drive\n",
            "/content/drive\n"
          ]
        }
      ]
    },
    {
      "cell_type": "code",
      "source": [
        "zip_ref = zipfile.ZipFile(\"/content/drive/My Drive/dataset.zip\", 'r')\n",
        "zip_ref.extractall(\"/tmp\")\n",
        "zip_ref.close()"
      ],
      "metadata": {
        "id": "JWSe3t4I9IgJ"
      },
      "execution_count": null,
      "outputs": []
    },
    {
      "cell_type": "code",
      "source": [
        "xs = []\n",
        "ys = []\n",
        "\n",
        "#points to the end of the last batch\n",
        "train_batch_pointer = 0\n",
        "val_batch_pointer = 0\n",
        "test_batch_pointer = 0\n",
        "\n",
        "#read data.txt\n",
        "with open(\"/tmp/dataset/driving_log.csv\") as f:\n",
        "    for line in f:\n",
        "        xs.append(\"/tmp/dataset/IMG/\" + line.split(',')[0])\n",
        "        #the paper by Nvidia uses the inverse of the turning radius,\n",
        "        #but steering wheel angle is proportional to the inverse of turning radius\n",
        "        #so the steering wheel angle in radians is used as the output\n",
        "        ys.append(float(line.split(',')[1]) * 3.14159265 / 180)\n",
        "\n",
        "#get number of images\n",
        "num_images = len(xs)\n",
        "\n",
        "#shuffle list of images\n",
        "c = list(zip(xs, ys))\n",
        "random.shuffle(c)\n",
        "xs, ys = zip(*c)\n",
        "\n",
        "train_xs = xs[:int(len(xs) * 0.8)]\n",
        "train_ys = ys[:int(len(xs) * 0.8)]\n",
        "\n",
        "val_xset = xs[-int(len(xs) * 0.2):]\n",
        "val_yset = ys[-int(len(xs) * 0.2):]\n",
        "\n",
        "val_xs = val_xset[:int(len(val_xset) * 0.5)]\n",
        "val_ys = val_yset[:int(len(val_yset) * 0.5)]\n",
        "\n",
        "test_xs = val_xset[-int(len(val_xset) * 0.5):]\n",
        "test_ys = val_yset[-int(len(val_yset) * 0.5):]\n",
        "\n",
        "num_train_images = len(train_xs)\n",
        "num_val_images = len(val_xs)\n",
        "num_test_images = len(test_xs)"
      ],
      "metadata": {
        "id": "c_3JDDkyz-ZL"
      },
      "execution_count": null,
      "outputs": []
    },
    {
      "cell_type": "code",
      "source": [
        "num_train_images"
      ],
      "metadata": {
        "id": "Y2AfTHUuCP4r",
        "colab": {
          "base_uri": "https://localhost:8080/"
        },
        "outputId": "a0df7791-edc3-4602-ac6a-f895d2e97278"
      },
      "execution_count": null,
      "outputs": [
        {
          "output_type": "execute_result",
          "data": {
            "text/plain": [
              "25954"
            ]
          },
          "metadata": {},
          "execution_count": 5
        }
      ]
    },
    {
      "cell_type": "code",
      "source": [
        "num_val_images"
      ],
      "metadata": {
        "id": "F27uHgpxCTEH",
        "colab": {
          "base_uri": "https://localhost:8080/"
        },
        "outputId": "e22136cb-26b0-4d96-a6b2-0966e21e6688"
      },
      "execution_count": null,
      "outputs": [
        {
          "output_type": "execute_result",
          "data": {
            "text/plain": [
              "3244"
            ]
          },
          "metadata": {},
          "execution_count": 6
        }
      ]
    },
    {
      "cell_type": "code",
      "source": [
        "num_test_images"
      ],
      "metadata": {
        "id": "u3YZ5xLGI2Gj",
        "colab": {
          "base_uri": "https://localhost:8080/"
        },
        "outputId": "2555ce9e-9b2e-4795-c189-931158f88328"
      },
      "execution_count": null,
      "outputs": [
        {
          "output_type": "execute_result",
          "data": {
            "text/plain": [
              "3244"
            ]
          },
          "metadata": {},
          "execution_count": 7
        }
      ]
    },
    {
      "cell_type": "code",
      "source": [
        "def LoadTrainBatch(batch_size):\n",
        "    global train_batch_pointer\n",
        "    x_out = []\n",
        "    y_out = []\n",
        "    for i in range(0, batch_size):\n",
        "      x_out.append(cv2.resize(cv2.imread(train_xs[(train_batch_pointer + i) % num_train_images])[-150:], (200, 66)) / 255.0)\n",
        "      y_out.append([train_ys[(train_batch_pointer + i) % num_train_images]])\n",
        "    train_batch_pointer += batch_size\n",
        "    return x_out, y_out\n",
        "\n",
        "def LoadValBatch(batch_size):\n",
        "    global val_batch_pointer\n",
        "    x_out = []\n",
        "    y_out = []\n",
        "    for i in range(0, batch_size):\n",
        "      x_out.append(cv2.resize(cv2.imread(val_xs[(val_batch_pointer + i) % num_val_images])[-150:], (200, 66)) / 255.0)\n",
        "      y_out.append([val_ys[(val_batch_pointer + i) % num_val_images]])\n",
        "    val_batch_pointer += batch_size\n",
        "    return x_out, y_out\n",
        "\n",
        "def LoadTestBatch(batch_size):\n",
        "    global test_batch_pointer\n",
        "    x_out = []\n",
        "    y_out = []\n",
        "    for i in range(0, batch_size):\n",
        "      x_out.append(cv2.resize(cv2.imread(test_xs[(test_batch_pointer + i) % num_test_images])[-150:], (200, 66)) / 255.0)\n",
        "      y_out.append([test_ys[(test_batch_pointer + i) % num_test_images]])\n",
        "    test_batch_pointer += batch_size\n",
        "    return x_out, y_out"
      ],
      "metadata": {
        "id": "KZwOtCdBz6Z3"
      },
      "execution_count": null,
      "outputs": []
    },
    {
      "cell_type": "code",
      "source": [],
      "metadata": {
        "id": "X7WRKRI9rwmh"
      },
      "execution_count": null,
      "outputs": []
    }
  ]
}