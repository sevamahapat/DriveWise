{
  "nbformat": 4,
  "nbformat_minor": 0,
  "metadata": {
    "colab": {
      "provenance": []
    },
    "kernelspec": {
      "name": "python3",
      "display_name": "Python 3"
    },
    "language_info": {
      "name": "python"
    },
    "gpuClass": "standard"
  },
  "cells": [
    {
      "cell_type": "code",
      "execution_count": null,
      "metadata": {
        "id": "oDU3px--zpul"
      },
      "outputs": [],
      "source": [
        "import cv2\n",
        "import random\n",
        "import numpy as np"
      ]
    },
    {
      "cell_type": "code",
      "source": [
        "import zipfile\n",
        "from google.colab import drive\n",
        "drive.mount('/content/drive')\n",
        "%cd /content/drive/"
      ],
      "metadata": {
        "id": "PUaJ7E5s55fU",
        "colab": {
          "base_uri": "https://localhost:8080/"
        },
        "outputId": "87a56bce-eec4-46b3-bbbc-4c621241fb24"
      },
      "execution_count": null,
      "outputs": [
        {
          "output_type": "stream",
          "name": "stdout",
          "text": [
            "Mounted at /content/drive\n",
            "/content/drive\n"
          ]
        }
      ]
    },
    {
      "cell_type": "code",
      "source": [
        "zip_ref = zipfile.ZipFile(\"/content/drive/My Drive/driving_dataset.zip\", 'r')\n",
        "zip_ref.extractall(\"/tmp\")\n",
        "zip_ref.close()"
      ],
      "metadata": {
        "id": "JWSe3t4I9IgJ"
      },
      "execution_count": null,
      "outputs": []
    },
    {
      "cell_type": "code",
      "source": [
        "xs = []\n",
        "ys = []\n",
        "\n",
        "#points to the end of the last batch\n",
        "train_batch_pointer = 0\n",
        "val_batch_pointer = 0\n",
        "test_batch_pointer = 0\n",
        "\n",
        "#read data.txt\n",
        "with open(\"/tmp/driving_dataset/data.txt\") as f:\n",
        "    for line in f:\n",
        "        xs.append(\"/tmp/driving_dataset/\" + line.split()[0])\n",
        "        #the paper by Nvidia uses the inverse of the turning radius,\n",
        "        #but steering wheel angle is proportional to the inverse of turning radius\n",
        "        #so the steering wheel angle in radians is used as the output\n",
        "        ys.append(float(line.split()[1]) * 3.14159265 / 180)\n",
        "\n",
        "#get number of images\n",
        "num_images = len(xs)\n",
        "\n",
        "#shuffle list of images\n",
        "c = list(zip(xs, ys))\n",
        "random.shuffle(c)\n",
        "xs, ys = zip(*c)\n",
        "# print(xs[0])\n",
        "\n",
        "train_xs = xs[:int(len(xs) * 0.8)]\n",
        "# print(train_xs[0])\n",
        "train_ys = ys[:int(len(xs) * 0.8)]\n",
        "\n",
        "val_xs_2 = xs[-int(len(xs) * 0.2):]\n",
        "# print(val_xs[0])\n",
        "val_ys_2 = ys[-int(len(xs) * 0.2):]\n",
        "\n",
        "\n",
        "# num_val_images = len(val_xs_2)\n",
        "# print(num_val_images)\n",
        "\n",
        "val_xs = val_xs_2[:int(len(val_xs_2) * 0.5)]\n",
        "val_ys = val_ys_2[:int(len(val_ys_2) * 0.5)]\n",
        "\n",
        "test_xs = val_xs_2[-int(len(val_xs_2) * 0.5):]\n",
        "test_ys = val_ys_2[-int(len(val_ys_2) * 0.5):]\n",
        "\n",
        "num_train_images = len(train_xs)\n",
        "print(num_train_images)\n",
        "\n",
        "num_val_images = len(val_xs)\n",
        "print(num_val_images)\n",
        "\n",
        "num_test_images = len(test_xs)\n",
        "print(num_test_images)\n",
        "\n",
        "print(train_xs[0])\n",
        "print(val_xs[0])\n",
        "print(test_xs[0])\n",
        "\n",
        "print(train_ys[0])\n",
        "print(val_ys[0])\n",
        "print(test_ys[0])\n",
        "# l1 = [1,2,3,4,5,6,7,8,9,10,11,12,13,14,15,16,17,18,19,20]\n",
        "# print(l1)\n",
        "# train_dt = l1[:int(len(l1) * 0.8)]\n",
        "# val_dt = l1[-int(len(l1) * 0.2):]\n",
        "# print(train_dt)\n",
        "# print(val_dt)\n",
        "# new_val_dt = val_dt[:int(len(val_dt) * 0.5)]\n",
        "# test_dt = val_dt[-int(len(val_dt) * 0.5):]\n",
        "\n",
        "# print('testing the division:')\n",
        "# print(new_val_dt)\n",
        "# print(test_dt)"
      ],
      "metadata": {
        "id": "c_3JDDkyz-ZL",
        "colab": {
          "base_uri": "https://localhost:8080/"
        },
        "outputId": "bcdf5eeb-ee85-481d-82fe-b774ef1a9ab1"
      },
      "execution_count": null,
      "outputs": [
        {
          "output_type": "stream",
          "name": "stdout",
          "text": [
            "36324\n",
            "4540\n",
            "4540\n",
            "/tmp/driving_dataset/34789.jpg\n",
            "/tmp/driving_dataset/26985.jpg\n",
            "/tmp/driving_dataset/18081.jpg\n",
            "0.017627825425000004\n",
            "0.022863813175\n",
            "0.13020156205\n"
          ]
        }
      ]
    },
    {
      "cell_type": "code",
      "source": [
        "num_train_images"
      ],
      "metadata": {
        "id": "Y2AfTHUuCP4r",
        "colab": {
          "base_uri": "https://localhost:8080/"
        },
        "outputId": "842505e2-589f-4ecb-d707-3d873c76beae"
      },
      "execution_count": null,
      "outputs": [
        {
          "output_type": "execute_result",
          "data": {
            "text/plain": [
              "36324"
            ]
          },
          "metadata": {},
          "execution_count": 7
        }
      ]
    },
    {
      "cell_type": "code",
      "source": [
        "num_val_images"
      ],
      "metadata": {
        "id": "F27uHgpxCTEH",
        "colab": {
          "base_uri": "https://localhost:8080/"
        },
        "outputId": "c0ae8e68-d292-4b02-d9af-e0eeb8a8a4df"
      },
      "execution_count": null,
      "outputs": [
        {
          "output_type": "execute_result",
          "data": {
            "text/plain": [
              "4540"
            ]
          },
          "metadata": {},
          "execution_count": 8
        }
      ]
    },
    {
      "cell_type": "code",
      "source": [
        "num_test_images"
      ],
      "metadata": {
        "colab": {
          "base_uri": "https://localhost:8080/"
        },
        "id": "T2LyL2LgBLtJ",
        "outputId": "1b6680dc-545a-4c72-9b63-d0a5f0f7903a"
      },
      "execution_count": null,
      "outputs": [
        {
          "output_type": "execute_result",
          "data": {
            "text/plain": [
              "4540"
            ]
          },
          "metadata": {},
          "execution_count": 9
        }
      ]
    },
    {
      "cell_type": "code",
      "source": [
        "def LoadTrainBatch(batch_size):\n",
        "    global train_batch_pointer\n",
        "    x_out = []\n",
        "    y_out = []\n",
        "    for i in range(0, batch_size):\n",
        "      x_out.append(cv2.resize(cv2.imread(train_xs[(train_batch_pointer + i) % num_train_images])[-150:], (200, 66)) / 255.0)\n",
        "      y_out.append([train_ys[(train_batch_pointer + i) % num_train_images]])\n",
        "    train_batch_pointer += batch_size\n",
        "    return x_out, y_out\n",
        "\n",
        "def LoadValBatch(batch_size):\n",
        "    global val_batch_pointer\n",
        "    x_out = []\n",
        "    y_out = []\n",
        "    for i in range(0, batch_size):\n",
        "      x_out.append(cv2.resize(cv2.imread(val_xs[(val_batch_pointer + i) % num_val_images])[-150:], (200, 66)) / 255.0)\n",
        "      y_out.append([val_ys[(val_batch_pointer + i) % num_val_images]])\n",
        "    val_batch_pointer += batch_size\n",
        "    # print(x_out)\n",
        "    # print(y_out)\n",
        "    return x_out, y_out\n",
        "\n",
        "def LoadTestBatch(batch_size):\n",
        "    global test_batch_pointer\n",
        "    x_out = []\n",
        "    y_out = []\n",
        "    for i in range(0, batch_size):\n",
        "      x_out.append(cv2.resize(cv2.imread(test_xs[(test_batch_pointer + i) % num_test_images])[-150:], (200, 66)) / 255.0)\n",
        "      y_out.append([test_ys[(test_batch_pointer + i) % num_test_images]])\n",
        "    test_batch_pointer += batch_size\n",
        "    # print(x_out)\n",
        "    # print(y_out)\n",
        "    return x_out, y_out"
      ],
      "metadata": {
        "id": "KZwOtCdBz6Z3"
      },
      "execution_count": null,
      "outputs": []
    },
    {
      "cell_type": "code",
      "source": [
        "LoadTestBatch(3)"
      ],
      "metadata": {
        "colab": {
          "base_uri": "https://localhost:8080/"
        },
        "id": "MMFA1-Ox0RJM",
        "outputId": "9a6d00a6-c1d1-40de-f046-eaf816b24ca7"
      },
      "execution_count": null,
      "outputs": [
        {
          "output_type": "execute_result",
          "data": {
            "text/plain": [
              "([array([[[0.18431373, 0.26666667, 0.24313725],\n",
              "          [0.16078431, 0.27058824, 0.22352941],\n",
              "          [0.17254902, 0.24705882, 0.23137255],\n",
              "          ...,\n",
              "          [0.09411765, 0.09803922, 0.08235294],\n",
              "          [0.08235294, 0.08627451, 0.07058824],\n",
              "          [0.07843137, 0.07843137, 0.0627451 ]],\n",
              "  \n",
              "         [[0.27843137, 0.30196078, 0.3254902 ],\n",
              "          [0.23529412, 0.28627451, 0.25490196],\n",
              "          [0.26666667, 0.31372549, 0.28627451],\n",
              "          ...,\n",
              "          [0.09411765, 0.10980392, 0.08627451],\n",
              "          [0.09019608, 0.09803922, 0.0745098 ],\n",
              "          [0.07058824, 0.0745098 , 0.05098039]],\n",
              "  \n",
              "         [[0.28627451, 0.31372549, 0.3254902 ],\n",
              "          [0.3254902 , 0.34117647, 0.36078431],\n",
              "          [0.31764706, 0.35294118, 0.36470588],\n",
              "          ...,\n",
              "          [0.09411765, 0.10196078, 0.07843137],\n",
              "          [0.09411765, 0.10196078, 0.07843137],\n",
              "          [0.08627451, 0.08627451, 0.0627451 ]],\n",
              "  \n",
              "         ...,\n",
              "  \n",
              "         [[0.30196078, 0.24313725, 0.24705882],\n",
              "          [0.32941176, 0.2627451 , 0.26666667],\n",
              "          [0.34117647, 0.29411765, 0.29803922],\n",
              "          ...,\n",
              "          [0.7372549 , 0.6745098 , 0.56862745],\n",
              "          [0.70588235, 0.6627451 , 0.55686275],\n",
              "          [0.56078431, 0.53333333, 0.43921569]],\n",
              "  \n",
              "         [[0.35686275, 0.27843137, 0.29803922],\n",
              "          [0.39607843, 0.30980392, 0.3372549 ],\n",
              "          [0.4       , 0.32156863, 0.34901961],\n",
              "          ...,\n",
              "          [0.63137255, 0.55294118, 0.48627451],\n",
              "          [0.70588235, 0.63529412, 0.54509804],\n",
              "          [0.70588235, 0.65490196, 0.5372549 ]],\n",
              "  \n",
              "         [[0.34901961, 0.30196078, 0.31372549],\n",
              "          [0.37254902, 0.32156863, 0.3254902 ],\n",
              "          [0.42352941, 0.3372549 , 0.34117647],\n",
              "          ...,\n",
              "          [0.29019608, 0.24705882, 0.20784314],\n",
              "          [0.39607843, 0.37254902, 0.30980392],\n",
              "          [0.60784314, 0.60392157, 0.49803922]]]),\n",
              "  array([[[0.10980392, 0.1254902 , 0.1254902 ],\n",
              "          [0.1254902 , 0.1372549 , 0.1372549 ],\n",
              "          [0.11764706, 0.10980392, 0.10980392],\n",
              "          ...,\n",
              "          [0.61568627, 0.74117647, 0.99607843],\n",
              "          [0.54901961, 0.69411765, 0.96862745],\n",
              "          [0.5372549 , 0.69803922, 0.98039216]],\n",
              "  \n",
              "         [[0.10196078, 0.1254902 , 0.12156863],\n",
              "          [0.12156863, 0.11372549, 0.11372549],\n",
              "          [0.11764706, 0.11764706, 0.11764706],\n",
              "          ...,\n",
              "          [0.55294118, 0.69411765, 1.        ],\n",
              "          [0.54117647, 0.69803922, 0.99215686],\n",
              "          [0.51764706, 0.69803922, 1.        ]],\n",
              "  \n",
              "         [[0.10196078, 0.10980392, 0.11372549],\n",
              "          [0.10980392, 0.10588235, 0.10196078],\n",
              "          [0.09411765, 0.10196078, 0.10588235],\n",
              "          ...,\n",
              "          [0.51764706, 0.65490196, 0.9372549 ],\n",
              "          [0.54509804, 0.70980392, 0.98431373],\n",
              "          [0.50980392, 0.6627451 , 0.90980392]],\n",
              "  \n",
              "         ...,\n",
              "  \n",
              "         [[0.43137255, 0.41176471, 0.41568627],\n",
              "          [0.44313725, 0.41568627, 0.41568627],\n",
              "          [0.43921569, 0.40392157, 0.39215686],\n",
              "          ...,\n",
              "          [0.4745098 , 0.45098039, 0.42352941],\n",
              "          [0.47058824, 0.45490196, 0.43921569],\n",
              "          [0.4627451 , 0.45882353, 0.44313725]],\n",
              "  \n",
              "         [[0.43137255, 0.41960784, 0.4       ],\n",
              "          [0.44313725, 0.43529412, 0.41568627],\n",
              "          [0.44313725, 0.43137255, 0.41176471],\n",
              "          ...,\n",
              "          [0.45490196, 0.43921569, 0.40392157],\n",
              "          [0.45882353, 0.44705882, 0.41568627],\n",
              "          [0.45098039, 0.43921569, 0.41960784]],\n",
              "  \n",
              "         [[0.43529412, 0.40784314, 0.40784314],\n",
              "          [0.41568627, 0.40392157, 0.39215686],\n",
              "          [0.41960784, 0.41176471, 0.39607843],\n",
              "          ...,\n",
              "          [0.47058824, 0.45882353, 0.40392157],\n",
              "          [0.46666667, 0.44705882, 0.41176471],\n",
              "          [0.45490196, 0.43137255, 0.40392157]]]),\n",
              "  array([[[0.14117647, 0.14901961, 0.14901961],\n",
              "          [0.12156863, 0.12156863, 0.12156863],\n",
              "          [0.1254902 , 0.1254902 , 0.1254902 ],\n",
              "          ...,\n",
              "          [0.38039216, 0.59607843, 0.56862745],\n",
              "          [0.43921569, 0.61960784, 0.60392157],\n",
              "          [0.39607843, 0.60392157, 0.58823529]],\n",
              "  \n",
              "         [[0.12941176, 0.1372549 , 0.1372549 ],\n",
              "          [0.11372549, 0.12156863, 0.12156863],\n",
              "          [0.12941176, 0.12941176, 0.12941176],\n",
              "          ...,\n",
              "          [0.57647059, 0.71764706, 0.67058824],\n",
              "          [0.68235294, 0.75294118, 0.7254902 ],\n",
              "          [0.7372549 , 0.78823529, 0.76862745]],\n",
              "  \n",
              "         [[0.12156863, 0.1254902 , 0.1254902 ],\n",
              "          [0.13333333, 0.1372549 , 0.1372549 ],\n",
              "          [0.13333333, 0.13333333, 0.13333333],\n",
              "          ...,\n",
              "          [0.71764706, 0.78431373, 0.79215686],\n",
              "          [0.71372549, 0.78823529, 0.81568627],\n",
              "          [0.70588235, 0.79215686, 0.81960784]],\n",
              "  \n",
              "         ...,\n",
              "  \n",
              "         [[0.71372549, 0.74117647, 0.73333333],\n",
              "          [0.59215686, 0.60784314, 0.60784314],\n",
              "          [0.45098039, 0.45882353, 0.45882353],\n",
              "          ...,\n",
              "          [0.41568627, 0.39607843, 0.33333333],\n",
              "          [0.42352941, 0.39607843, 0.33333333],\n",
              "          [0.4       , 0.36862745, 0.31372549]],\n",
              "  \n",
              "         [[0.38823529, 0.37647059, 0.38039216],\n",
              "          [0.37254902, 0.35686275, 0.37647059],\n",
              "          [0.39215686, 0.35686275, 0.36470588],\n",
              "          ...,\n",
              "          [0.40392157, 0.35294118, 0.34117647],\n",
              "          [0.38431373, 0.3372549 , 0.31372549],\n",
              "          [0.38823529, 0.34509804, 0.31372549]],\n",
              "  \n",
              "         [[0.38823529, 0.3254902 , 0.32941176],\n",
              "          [0.39215686, 0.34117647, 0.33333333],\n",
              "          [0.38823529, 0.34509804, 0.34509804],\n",
              "          ...,\n",
              "          [0.38039216, 0.33333333, 0.3254902 ],\n",
              "          [0.36470588, 0.32156863, 0.30196078],\n",
              "          [0.35686275, 0.3372549 , 0.28627451]]])],\n",
              " [[0.13020156205], [0.38536869840000004], [0.7197737827]])"
            ]
          },
          "metadata": {},
          "execution_count": 11
        }
      ]
    },
    {
      "cell_type": "code",
      "source": [],
      "metadata": {
        "id": "DYNL-ZHraeuR"
      },
      "execution_count": null,
      "outputs": []
    }
  ]
}